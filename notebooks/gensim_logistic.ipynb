{
 "cells": [
  {
   "cell_type": "code",
   "execution_count": 3,
   "metadata": {},
   "outputs": [],
   "source": [
    "import pandas as pd\n",
    "import numpy as np\n",
    "import gensim\n",
    "from sklearn.linear_model import LogisticRegression\n",
    "from sklearn.model_selection import train_test_split\n",
    "from sklearn.metrics import accuracy_score"
   ]
  },
  {
   "cell_type": "code",
   "execution_count": 4,
   "metadata": {},
   "outputs": [],
   "source": [
    "import MeCab\n",
    "\n",
    "mecab = MeCab.Tagger(\n",
    "    \"-O wakati -d /usr/lib/x86_64-linux-gnu/mecab/dic/mecab-ipadic-neologd\"\n",
    ")"
   ]
  },
  {
   "cell_type": "code",
   "execution_count": 5,
   "metadata": {},
   "outputs": [
    {
     "data": {
      "text/plain": [
       "(162, 54, 54)"
      ]
     },
     "execution_count": 5,
     "metadata": {},
     "output_type": "execute_result"
    }
   ],
   "source": [
    "train_df = pd.read_csv(\"../data/train.tsv\", sep=\"\\t\")\n",
    "valid_df = pd.read_csv(\"../data/valid.tsv\", sep=\"\\t\")\n",
    "test_df = pd.read_csv(\"../data/test.tsv\", sep=\"\\t\")\n",
    "\n",
    "len(train_df), len(valid_df), len(test_df)"
   ]
  },
  {
   "cell_type": "code",
   "execution_count": 6,
   "metadata": {},
   "outputs": [],
   "source": [
    "# train_dfのpoemカラムをgensimの学習済みモデルでベクトル化する\n",
    "# https://www.cl.ecei.tohoku.ac.jp/~m-suzuki/jawiki_vector/\n",
    "# これを採用している: https://github.com/singletongue/WikiEntVec/releases\n",
    "# https://radimrehurek.com/gensim/models/word2vec.html"
   ]
  },
  {
   "cell_type": "code",
   "execution_count": 7,
   "metadata": {},
   "outputs": [],
   "source": [
    "# gensimで学習済みモデルを読み込む\n",
    "word2vec_model = gensim.models.KeyedVectors.load_word2vec_format(\n",
    "    \"../data/word2vec_ja/jawiki.word_vectors.100d.txt\", binary=False\n",
    ")"
   ]
  },
  {
   "cell_type": "code",
   "execution_count": 8,
   "metadata": {},
   "outputs": [
    {
     "name": "stdout",
     "output_type": "stream",
     "text": [
      "`東京`と`大阪`の類似度 0.849611\n",
      "`東京`と`静岡`の類似度 0.7409164\n",
      "`東京`と`みかん`の類似度 0.2301355\n"
     ]
    }
   ],
   "source": [
    "import numpy as np\n",
    "\n",
    "\n",
    "def cos_sim(v1, v2):\n",
    "    return np.dot(v1, v2) / np.sqrt(np.dot(v1, v1) * np.dot(v2, v2))\n",
    "\n",
    "\n",
    "print(\"`東京`と`大阪`の類似度\", cos_sim(word2vec_model[\"東京\"], word2vec_model[\"大阪\"]))\n",
    "print(\"`東京`と`静岡`の類似度\", cos_sim(word2vec_model[\"東京\"], word2vec_model[\"静岡\"]))\n",
    "print(\"`東京`と`みかん`の類似度\", cos_sim(word2vec_model[\"東京\"], word2vec_model[\"みかん\"]))"
   ]
  },
  {
   "cell_type": "code",
   "execution_count": 9,
   "metadata": {},
   "outputs": [],
   "source": [
    "# train_dfのpoemをMecabで形態素解析して、gensimの学習済みモデルでベクトル化する\n",
    "def get_vector(text):\n",
    "    words = mecab.parse(text).split()\n",
    "    vectors = []\n",
    "    for word in words:\n",
    "        try:\n",
    "            vector = word2vec_model[word]\n",
    "            vectors.append(vector)\n",
    "        except:\n",
    "            pass\n",
    "    if len(vectors) == 0:\n",
    "        return np.zeros(100)\n",
    "    return np.mean(vectors, axis=0)\n",
    "\n",
    "\n",
    "train_df[\"vector\"] = train_df[\"poem\"].map(get_vector)\n",
    "test_df[\"vector\"] = test_df[\"poem\"].map(get_vector)"
   ]
  },
  {
   "cell_type": "code",
   "execution_count": 10,
   "metadata": {},
   "outputs": [
    {
     "data": {
      "text/plain": [
       "0.8333333333333334"
      ]
     },
     "execution_count": 10,
     "metadata": {},
     "output_type": "execute_result"
    }
   ],
   "source": [
    "# ロジスティック回帰を行う\n",
    "model = LogisticRegression(random_state=1)\n",
    "model.fit(np.stack(train_df[\"vector\"].values), train_df[\"label\"])\n",
    "pred = model.predict(np.stack(test_df[\"vector\"].values))\n",
    "accuracy_score(test_df[\"label\"], pred)"
   ]
  },
  {
   "cell_type": "code",
   "execution_count": 11,
   "metadata": {},
   "outputs": [
    {
     "data": {
      "text/plain": [
       "0.7037037037037037"
      ]
     },
     "execution_count": 11,
     "metadata": {},
     "output_type": "execute_result"
    }
   ],
   "source": [
    "accuracy_score(test_df[\"label\"], [1] * len(test_df))"
   ]
  },
  {
   "cell_type": "code",
   "execution_count": 21,
   "metadata": {},
   "outputs": [
    {
     "data": {
      "text/html": [
       "<div>\n",
       "<style scoped>\n",
       "    .dataframe tbody tr th:only-of-type {\n",
       "        vertical-align: middle;\n",
       "    }\n",
       "\n",
       "    .dataframe tbody tr th {\n",
       "        vertical-align: top;\n",
       "    }\n",
       "\n",
       "    .dataframe thead th {\n",
       "        text-align: right;\n",
       "    }\n",
       "</style>\n",
       "<table border=\"1\" class=\"dataframe\">\n",
       "  <thead>\n",
       "    <tr style=\"text-align: right;\">\n",
       "      <th></th>\n",
       "      <th>poem</th>\n",
       "      <th>label</th>\n",
       "      <th>vector</th>\n",
       "      <th>pred</th>\n",
       "    </tr>\n",
       "  </thead>\n",
       "  <tbody>\n",
       "    <tr>\n",
       "      <th>3</th>\n",
       "      <td>時は常に背後から迫り唸りを上げて眼前に流れ去る踏み止まれ時がお前を美しい世界へ押し流そうとど...</td>\n",
       "      <td>0</td>\n",
       "      <td>[0.10835943, 0.0106099155, -0.12551703, -0.333...</td>\n",
       "      <td>0</td>\n",
       "    </tr>\n",
       "    <tr>\n",
       "      <th>15</th>\n",
       "      <td>ああおれたちは皆眼をあけたまま空を飛ぶ夢を見てるんだ</td>\n",
       "      <td>0</td>\n",
       "      <td>[0.13821492, -0.0131085515, -0.31000143, -0.30...</td>\n",
       "      <td>1</td>\n",
       "    </tr>\n",
       "  </tbody>\n",
       "</table>\n",
       "</div>"
      ],
      "text/plain": [
       "                                                 poem  label  \\\n",
       "3   時は常に背後から迫り唸りを上げて眼前に流れ去る踏み止まれ時がお前を美しい世界へ押し流そうとど...      0   \n",
       "15                         ああおれたちは皆眼をあけたまま空を飛ぶ夢を見てるんだ      0   \n",
       "\n",
       "                                               vector  pred  \n",
       "3   [0.10835943, 0.0106099155, -0.12551703, -0.333...     0  \n",
       "15  [0.13821492, -0.0131085515, -0.31000143, -0.30...     1  "
      ]
     },
     "execution_count": 21,
     "metadata": {},
     "output_type": "execute_result"
    }
   ],
   "source": [
    "# 単語ロジスティック回帰で誤っていた問題を解けていたか確認\n",
    "\n",
    "test_df[\"pred\"] = model.predict(np.stack(test_df[\"vector\"].values))\n",
    "test_df[test_df[\"poem\"].map(lambda x: \"眼\" in x)]"
   ]
  },
  {
   "cell_type": "code",
   "execution_count": 18,
   "metadata": {},
   "outputs": [
    {
     "data": {
      "text/html": [
       "<div>\n",
       "<style scoped>\n",
       "    .dataframe tbody tr th:only-of-type {\n",
       "        vertical-align: middle;\n",
       "    }\n",
       "\n",
       "    .dataframe tbody tr th {\n",
       "        vertical-align: top;\n",
       "    }\n",
       "\n",
       "    .dataframe thead th {\n",
       "        text-align: right;\n",
       "    }\n",
       "</style>\n",
       "<table border=\"1\" class=\"dataframe\">\n",
       "  <thead>\n",
       "    <tr style=\"text-align: right;\">\n",
       "      <th></th>\n",
       "      <th>word</th>\n",
       "      <th>pred</th>\n",
       "    </tr>\n",
       "  </thead>\n",
       "  <tbody>\n",
       "    <tr>\n",
       "      <th>0</th>\n",
       "      <td>ああ</td>\n",
       "      <td>0.787445</td>\n",
       "    </tr>\n",
       "    <tr>\n",
       "      <th>1</th>\n",
       "      <td>おれ</td>\n",
       "      <td>0.809368</td>\n",
       "    </tr>\n",
       "    <tr>\n",
       "      <th>2</th>\n",
       "      <td>たち</td>\n",
       "      <td>0.480314</td>\n",
       "    </tr>\n",
       "    <tr>\n",
       "      <th>3</th>\n",
       "      <td>は</td>\n",
       "      <td>0.805338</td>\n",
       "    </tr>\n",
       "    <tr>\n",
       "      <th>4</th>\n",
       "      <td>皆</td>\n",
       "      <td>0.088855</td>\n",
       "    </tr>\n",
       "    <tr>\n",
       "      <th>5</th>\n",
       "      <td>眼</td>\n",
       "      <td>0.043415</td>\n",
       "    </tr>\n",
       "    <tr>\n",
       "      <th>6</th>\n",
       "      <td>を</td>\n",
       "      <td>0.477530</td>\n",
       "    </tr>\n",
       "    <tr>\n",
       "      <th>7</th>\n",
       "      <td>あけ</td>\n",
       "      <td>0.627053</td>\n",
       "    </tr>\n",
       "    <tr>\n",
       "      <th>8</th>\n",
       "      <td>た</td>\n",
       "      <td>0.745257</td>\n",
       "    </tr>\n",
       "    <tr>\n",
       "      <th>9</th>\n",
       "      <td>まま</td>\n",
       "      <td>0.147882</td>\n",
       "    </tr>\n",
       "    <tr>\n",
       "      <th>10</th>\n",
       "      <td>空</td>\n",
       "      <td>0.465790</td>\n",
       "    </tr>\n",
       "    <tr>\n",
       "      <th>11</th>\n",
       "      <td>を</td>\n",
       "      <td>0.477530</td>\n",
       "    </tr>\n",
       "    <tr>\n",
       "      <th>12</th>\n",
       "      <td>飛ぶ</td>\n",
       "      <td>0.276708</td>\n",
       "    </tr>\n",
       "    <tr>\n",
       "      <th>13</th>\n",
       "      <td>夢</td>\n",
       "      <td>0.957799</td>\n",
       "    </tr>\n",
       "    <tr>\n",
       "      <th>14</th>\n",
       "      <td>を</td>\n",
       "      <td>0.477530</td>\n",
       "    </tr>\n",
       "    <tr>\n",
       "      <th>15</th>\n",
       "      <td>見</td>\n",
       "      <td>0.514518</td>\n",
       "    </tr>\n",
       "    <tr>\n",
       "      <th>16</th>\n",
       "      <td>てる</td>\n",
       "      <td>0.966926</td>\n",
       "    </tr>\n",
       "    <tr>\n",
       "      <th>17</th>\n",
       "      <td>ん</td>\n",
       "      <td>0.951469</td>\n",
       "    </tr>\n",
       "    <tr>\n",
       "      <th>18</th>\n",
       "      <td>だ</td>\n",
       "      <td>0.811504</td>\n",
       "    </tr>\n",
       "  </tbody>\n",
       "</table>\n",
       "</div>"
      ],
      "text/plain": [
       "   word      pred\n",
       "0    ああ  0.787445\n",
       "1    おれ  0.809368\n",
       "2    たち  0.480314\n",
       "3     は  0.805338\n",
       "4     皆  0.088855\n",
       "5     眼  0.043415\n",
       "6     を  0.477530\n",
       "7    あけ  0.627053\n",
       "8     た  0.745257\n",
       "9    まま  0.147882\n",
       "10    空  0.465790\n",
       "11    を  0.477530\n",
       "12   飛ぶ  0.276708\n",
       "13    夢  0.957799\n",
       "14    を  0.477530\n",
       "15    見  0.514518\n",
       "16   てる  0.966926\n",
       "17    ん  0.951469\n",
       "18    だ  0.811504"
      ]
     },
     "execution_count": 18,
     "metadata": {},
     "output_type": "execute_result"
    }
   ],
   "source": [
    "# 単語それぞれに対する回帰モデルの推論結果\n",
    "# 眼がBLEACHらしいと判定はできているが、それ以外にLO寄りの単語が多い\n",
    "\n",
    "pd.DataFrame(\n",
    "    {\n",
    "        \"word\": mecab.parse(test_df[\"poem\"][15]).split(),\n",
    "        \"pred\": model.predict_proba(\n",
    "            np.stack(\n",
    "                [\n",
    "                    word2vec_model[word]\n",
    "                    for word in mecab.parse(test_df[\"poem\"][15]).split()\n",
    "                ]\n",
    "            )\n",
    "        )[:, 1],\n",
    "    }\n",
    ")"
   ]
  },
  {
   "cell_type": "code",
   "execution_count": null,
   "metadata": {},
   "outputs": [],
   "source": []
  }
 ],
 "metadata": {
  "kernelspec": {
   "display_name": "text_classify",
   "language": "python",
   "name": "python3"
  },
  "language_info": {
   "codemirror_mode": {
    "name": "ipython",
    "version": 3
   },
   "file_extension": ".py",
   "mimetype": "text/x-python",
   "name": "python",
   "nbconvert_exporter": "python",
   "pygments_lexer": "ipython3",
   "version": "3.10.11"
  },
  "orig_nbformat": 4
 },
 "nbformat": 4,
 "nbformat_minor": 2
}
