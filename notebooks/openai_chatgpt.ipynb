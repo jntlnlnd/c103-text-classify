{
 "cells": [
  {
   "cell_type": "code",
   "execution_count": 1,
   "metadata": {},
   "outputs": [],
   "source": [
    "import openai"
   ]
  },
  {
   "cell_type": "code",
   "execution_count": 2,
   "metadata": {},
   "outputs": [],
   "source": [
    "(openai.api_key,) = !cat ../data/auth/openai.api.key"
   ]
  },
  {
   "cell_type": "code",
   "execution_count": 3,
   "metadata": {},
   "outputs": [],
   "source": [
    "functions = [\n",
    "    {\n",
    "        \"name\": \"get_label\",\n",
    "        \"description\": \"判定ラベル. BLEACHは0, コミックLOは1\",\n",
    "        \"parameters\": {\n",
    "            \"type\": \"object\",\n",
    "            \"properties\": {\n",
    "                \"label\": {\n",
    "                    \"type\": \"integer\",\n",
    "                    \"enum\": [0, 1],\n",
    "                    \"description\": \"判定ラベル. BLEACHは0, コミックLOは1\",\n",
    "                },\n",
    "            },\n",
    "            \"required\": [\"label\"],\n",
    "        },\n",
    "    }\n",
    "]"
   ]
  },
  {
   "cell_type": "code",
   "execution_count": 5,
   "metadata": {},
   "outputs": [
    {
     "data": {
      "text/plain": [
       "0"
      ]
     },
     "execution_count": 5,
     "metadata": {},
     "output_type": "execute_result"
    }
   ],
   "source": [
    "# 少し3.5-turboで練習して、ある程度精度が出てきたら4に移行する\n",
    "import json\n",
    "\n",
    "\n",
    "def get_gpt_pred(poem):\n",
    "    response = openai.ChatCompletion.create(\n",
    "        # model=\"gpt-3.5-turbo\",\n",
    "        model=\"gpt-4\",\n",
    "        messages=[\n",
    "            {\n",
    "                \"role\": \"user\",\n",
    "                \"content\": f\"\"\"\n",
    "あなたにポエムをBLEACHのものかCOMIC LOのものか判定してもらいます.\n",
    "BLEACHの例は以下の通りです。\n",
    "- 伏して生きるな、立ちて死すべし\n",
    "- そう、何ものもわたしの世界を変えられはしない\n",
    "- 僕は、ついてゆけるだろうか君のいない世界のスピードに\n",
    "- 剣を握らなければおまえを守れない剣を握ったままではおまえを抱き締められない\n",
    "- 軋む軋む浄罪の塔光のごとくに世界を貫く揺れる揺れる背骨の塔堕ちてゆくのはぼくらか空か\n",
    "\n",
    "COMIC LOの例は以下の通りです。\n",
    "- 女って、重いんだな。\n",
    "- 前を向く君は、青空より美しい。\n",
    "- 春の子供。\n",
    "- ロリコンに春は来ない。\n",
    "- この娘の母親が本当に好きだった。それを今、思い出した。\n",
    "- 僕は望む。そして叶うことを決して望まない。\n",
    "\n",
    "それでは、以下のポエムをBLEACHのものかCOMIC LOのものか判定してください.\n",
    "\"{poem}\"\n",
    "BLEACHの場合は0を、COMIC LOの場合は1を出力してください.\n",
    "    \"\"\",\n",
    "            },\n",
    "        ],\n",
    "        functions=functions,\n",
    "        function_call=\"auto\",\n",
    "        max_tokens=50,\n",
    "    )\n",
    "\n",
    "    # print(response.choices[0][\"message\"])\n",
    "    return int(\n",
    "        json.loads(response.choices[0][\"message\"][\"function_call\"][\"arguments\"])[\n",
    "            \"label\"\n",
    "        ]\n",
    "    )\n",
    "\n",
    "get_gpt_pred(\"今度の終末はどこへ行く？\")"
   ]
  },
  {
   "cell_type": "code",
   "execution_count": 6,
   "metadata": {},
   "outputs": [],
   "source": [
    "import pandas as pd\n",
    "\n",
    "test_df = pd.read_csv(\"../data/test.tsv\", sep=\"\\t\")"
   ]
  },
  {
   "cell_type": "code",
   "execution_count": 12,
   "metadata": {},
   "outputs": [],
   "source": [
    "# poem2predがなければ新しく作る\n",
    "try:\n",
    "    poem2pred\n",
    "except Exception as e:\n",
    "    poem2pred = {}"
   ]
  },
  {
   "cell_type": "code",
   "execution_count": 13,
   "metadata": {},
   "outputs": [
    {
     "name": "stdout",
     "output_type": "stream",
     "text": [
      "0\n",
      "1\n",
      "2\n",
      "3\n",
      "4\n",
      "5\n",
      "6\n",
      "7\n",
      "8\n",
      "9\n",
      "10\n",
      "11\n",
      "12\n",
      "13\n",
      "14\n",
      "15\n",
      "16\n",
      "17\n",
      "18\n",
      "19\n",
      "20\n",
      "21\n",
      "22\n",
      "23\n",
      "24\n",
      "25\n",
      "26\n",
      "27\n",
      "28\n",
      "29\n",
      "30\n",
      "31\n",
      "32\n",
      "33\n",
      "34\n",
      "35\n",
      "36\n",
      "37\n",
      "38\n",
      "39\n",
      "40\n",
      "41\n",
      "42\n",
      "43\n",
      "44\n",
      "45\n",
      "46\n",
      "47\n",
      "48\n",
      "49\n",
      "50\n",
      "51\n",
      "52\n",
      "53\n"
     ]
    }
   ],
   "source": [
    "for poem in test_df[\"poem\"]:\n",
    "    if poem not in poem2pred.keys():\n",
    "        print(len(poem2pred))\n",
    "        poem2pred[poem] = get_gpt_pred(poem)\n",
    "\n",
    "test_df[\"pred\"] = test_df[\"poem\"].map(lambda x: poem2pred[x])\n",
    "test_df.to_csv(\"../data/test_w_gpt_20231203.tsv\", sep=\"\\t\", index=False)"
   ]
  },
  {
   "cell_type": "code",
   "execution_count": 14,
   "metadata": {},
   "outputs": [
    {
     "data": {
      "text/plain": [
       "0.8148148148148148"
      ]
     },
     "execution_count": 14,
     "metadata": {},
     "output_type": "execute_result"
    }
   ],
   "source": [
    "from sklearn.metrics import accuracy_score\n",
    "\n",
    "accuracy_score(test_df[\"label\"], test_df[\"pred\"])"
   ]
  },
  {
   "cell_type": "code",
   "execution_count": null,
   "metadata": {},
   "outputs": [],
   "source": []
  }
 ],
 "metadata": {
  "kernelspec": {
   "display_name": "text_classify",
   "language": "python",
   "name": "python3"
  },
  "language_info": {
   "codemirror_mode": {
    "name": "ipython",
    "version": 3
   },
   "file_extension": ".py",
   "mimetype": "text/x-python",
   "name": "python",
   "nbconvert_exporter": "python",
   "pygments_lexer": "ipython3",
   "version": "3.10.11"
  }
 },
 "nbformat": 4,
 "nbformat_minor": 2
}
