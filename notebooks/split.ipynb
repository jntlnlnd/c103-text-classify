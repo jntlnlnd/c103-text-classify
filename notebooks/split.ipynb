{
 "cells": [
  {
   "cell_type": "code",
   "execution_count": 3,
   "metadata": {},
   "outputs": [],
   "source": [
    "import pandas as pd\n",
    "import numpy as np"
   ]
  },
  {
   "cell_type": "code",
   "execution_count": 4,
   "metadata": {},
   "outputs": [
    {
     "name": "stderr",
     "output_type": "stream",
     "text": [
      "/home/imaseki/workspace/c103-text-classify/text_classify/lib/python3.10/site-packages/numpy/core/fromnumeric.py:59: FutureWarning: 'DataFrame.swapaxes' is deprecated and will be removed in a future version. Please use 'DataFrame.transpose' instead.\n",
      "  return bound(*args, **kwds)\n"
     ]
    },
    {
     "data": {
      "text/plain": [
       "(162, 54, 54)"
      ]
     },
     "execution_count": 4,
     "metadata": {},
     "output_type": "execute_result"
    }
   ],
   "source": [
    "df_bleach = pd.read_csv(\"../data/bleach.tsv\", sep=\"\\t\", header=None, names=[\"poem\"])\n",
    "df_lo = pd.read_csv(\"../data/lo.tsv\", sep=\"\\t\", header=None, names=[\"poem\"])\n",
    "\n",
    "df_bleach[\"label\"] = 0\n",
    "df_lo[\"label\"] = 1\n",
    "\n",
    "df = pd.concat([df_bleach, df_lo], axis=0)\n",
    "df = df.sample(frac=1, random_state=1)\n",
    "train_df, valid_df, test_df = np.split(df, [int(0.6 * len(df)), int(0.8 * len(df))])\n",
    "len(train_df), len(valid_df), len(test_df)"
   ]
  },
  {
   "cell_type": "code",
   "execution_count": 3,
   "metadata": {},
   "outputs": [],
   "source": [
    "train_df.to_csv(\"../data/train.tsv\", sep=\"\\t\", index=False)\n",
    "valid_df.to_csv(\"../data/valid.tsv\", sep=\"\\t\", index=False)\n",
    "test_df.to_csv(\"../data/test.tsv\", sep=\"\\t\", index=False)"
   ]
  },
  {
   "cell_type": "code",
   "execution_count": 5,
   "metadata": {},
   "outputs": [
    {
     "data": {
      "text/plain": [
       "label\n",
       "1    38\n",
       "0    16\n",
       "Name: count, dtype: int64"
      ]
     },
     "execution_count": 5,
     "metadata": {},
     "output_type": "execute_result"
    }
   ],
   "source": [
    "test_df.label.value_counts()"
   ]
  },
  {
   "cell_type": "code",
   "execution_count": null,
   "metadata": {},
   "outputs": [],
   "source": []
  }
 ],
 "metadata": {
  "kernelspec": {
   "display_name": "text_classify",
   "language": "python",
   "name": "python3"
  },
  "language_info": {
   "codemirror_mode": {
    "name": "ipython",
    "version": 3
   },
   "file_extension": ".py",
   "mimetype": "text/x-python",
   "name": "python",
   "nbconvert_exporter": "python",
   "pygments_lexer": "ipython3",
   "version": "3.10.11"
  }
 },
 "nbformat": 4,
 "nbformat_minor": 2
}
